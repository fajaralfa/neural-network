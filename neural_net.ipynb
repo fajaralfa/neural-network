{
 "cells": [
  {
   "cell_type": "code",
   "execution_count": 1,
   "id": "e3ef993e-91f9-4cb0-991c-68540985cb62",
   "metadata": {},
   "outputs": [],
   "source": [
    "import numpy as np\n",
    "import time\n",
    "import matplotlib.pyplot as plt"
   ]
  },
  {
   "cell_type": "code",
   "execution_count": 2,
   "id": "60c68e83-92a0-44d4-9de2-eac876b2be4f",
   "metadata": {},
   "outputs": [],
   "source": [
    "class Layer:\n",
    "    def __init__(self):\n",
    "        self.input = None\n",
    "        self.output = None\n",
    "\n",
    "    def forward(self, input_data):\n",
    "        raise NotImplementedError\n",
    "\n",
    "    def backward(self, output_error, learning_rate):\n",
    "        raise NotImplementedError\n",
    "\n",
    "class FCLayer(Layer):\n",
    "    def __init__(self, input_size, output_size):\n",
    "        self.weight = np.random.rand(input_size, output_size) - 0.5\n",
    "        self.bias = np.random.rand(1, output_size) - 0.5\n",
    "\n",
    "    def forward(self, input_data):\n",
    "        self.input = input_data\n",
    "        self.output = np.dot(self.input, self.weight) + self.bias\n",
    "        return self.output\n",
    "\n",
    "    def backward(self, output_error, learning_rate):\n",
    "        input_error = np.dot(output_error, self.weight.T)\n",
    "        weights_error = np.dot(self.input.T, output_error)\n",
    "        self.weight -= learning_rate * weights_error\n",
    "        self.bias -= learning_rate * output_error\n",
    "        return input_error\n",
    "\n",
    "class ActivationLayer(Layer):\n",
    "    def __init__(self, activation, activation_prime):\n",
    "        self.activation = activation\n",
    "        self.activation_prime = activation_prime\n",
    "        \n",
    "    def forward(self, input_data):\n",
    "        self.input = input_data\n",
    "        self.output = self.activation(self.input)\n",
    "        return self.output\n",
    "\n",
    "    def backward(self, output_error, learning_rate):\n",
    "        return self.activation_prime(self.input) * output_error\n",
    "\n",
    "def tanh(x):\n",
    "    return np.tanh(x)\n",
    "\n",
    "def tanh_prime(x):\n",
    "    return 1-np.tanh(x)**2\n",
    "\n",
    "def mse(y_true, y_pred):\n",
    "    return np.mean(np.power(y_true-y_pred, 2));\n",
    "\n",
    "def mse_prime(y_true, y_pred):\n",
    "    return 2*(y_pred-y_true)/y_true.size;\n",
    "\n",
    "class Network:\n",
    "    def __init__(self):\n",
    "        self.layers = []\n",
    "        self.loss = None\n",
    "        self.loss_prime = None\n",
    "\n",
    "    def add(self, layer):\n",
    "        self.layers.append(layer)\n",
    "\n",
    "    def use(self, loss, loss_prime):\n",
    "        self.loss = loss\n",
    "        self.loss_prime = loss_prime\n",
    "\n",
    "    def predict(self, input_data):\n",
    "        samples = len(input_data)\n",
    "        result = []\n",
    "        for i in range(samples):\n",
    "            output = input_data[i]\n",
    "            for layer in self.layers:\n",
    "                output = layer.forward(output)\n",
    "            result.append(output)\n",
    "        return result\n",
    "\n",
    "    def train(self, x_train, y_train, epochs, learning_rate):\n",
    "        samples = len(x_train)\n",
    "        for i in range(epochs):\n",
    "            err = 0\n",
    "            start = time.perf_counter()\n",
    "            for j in range(samples):\n",
    "                output = x_train[j]\n",
    "                for layer in self.layers:\n",
    "                    output = layer.forward(output)\n",
    "                err += self.loss(y_train[j], output)\n",
    "\n",
    "                error = self.loss_prime(y_train[j], output)\n",
    "                for layer in reversed(self.layers):\n",
    "                    error = layer.backward(error, learning_rate)\n",
    "\n",
    "            err /= samples\n",
    "            end = time.perf_counter()\n",
    "            print('epochs %d/%d error=%f time=%fs' % (i+1, epochs, err, (end - start)))\n",
    "        print('done training.')"
   ]
  },
  {
   "cell_type": "code",
   "execution_count": 3,
   "id": "ad89d5f1-164c-4d86-8ebd-ab93f8245afb",
   "metadata": {},
   "outputs": [
    {
     "name": "stdout",
     "output_type": "stream",
     "text": [
      "epochs 1/10 error=0.554091 time=0.000596s\n",
      "epochs 2/10 error=0.377736 time=0.000314s\n",
      "epochs 3/10 error=0.365646 time=0.000272s\n",
      "epochs 4/10 error=0.356542 time=0.000643s\n",
      "epochs 5/10 error=0.347968 time=0.000257s\n",
      "epochs 6/10 error=0.338654 time=0.000331s\n",
      "epochs 7/10 error=0.327968 time=0.000234s\n",
      "epochs 8/10 error=0.315637 time=0.000311s\n",
      "epochs 9/10 error=0.301808 time=0.000222s\n",
      "epochs 10/10 error=0.287254 time=0.000218s\n",
      "done training.\n",
      "[array([[0.24133164]]), array([[0.78819522]]), array([[0.70752773]]), array([[0.86551828]])]\n"
     ]
    }
   ],
   "source": [
    "# SOLVE XOR\n",
    "x_train_xor = np.array([[[0,0]], [[0,1]], [[1,0]], [[1,1]]])\n",
    "y_train_xor = np.array([[[0]], [[1]], [[1]], [[0]]])\n",
    "\n",
    "# network\n",
    "net = Network()\n",
    "net.add(FCLayer(2, 3))\n",
    "net.add(ActivationLayer(tanh, tanh_prime))\n",
    "net.add(FCLayer(3, 1))\n",
    "net.add(ActivationLayer(tanh, tanh_prime))\n",
    "\n",
    "# train\n",
    "net.use(mse, mse_prime)\n",
    "net.train(x_train_xor, y_train_xor, epochs=10, learning_rate=0.3)\n",
    "\n",
    "# test\n",
    "out = net.predict(x_train_xor)\n",
    "print(out)"
   ]
  },
  {
   "cell_type": "code",
   "execution_count": 4,
   "id": "fc8cc733-bcfa-4318-b950-b1b171b1594e",
   "metadata": {},
   "outputs": [],
   "source": [
    "# MNIST Dataset in CSV Format\n",
    "# !curl -O https://pjreddie.com/media/files/mnist_train.csv\n",
    "# !curl -O https://pjreddie.com/media/files/mnist_test.csv"
   ]
  },
  {
   "cell_type": "code",
   "execution_count": 5,
   "id": "027cb9b7-c364-4220-9141-2f4d830980ca",
   "metadata": {},
   "outputs": [],
   "source": [
    "# open training file\n",
    "data_file = open(\"mnist_train.csv\", \"r\")\n",
    "data_list = data_file.readlines()\n",
    "data_file.close()\n",
    "# open test file\n",
    "test_file = open(\"mnist_test.csv\", \"r\")\n",
    "test_list = test_file.readlines()\n",
    "test_file.close()"
   ]
  },
  {
   "cell_type": "code",
   "execution_count": 6,
   "id": "580756c6-b69f-4b70-8cf6-d791245c650f",
   "metadata": {},
   "outputs": [],
   "source": [
    "# convert to matrix\n",
    "# x_train is the data\n",
    "# y_train is the target output\n",
    "data = []\n",
    "expected = []\n",
    "for record in data_list[:]:\n",
    "    one = np.array(record.split(','))\n",
    "    outputs = np.zeros(10)\n",
    "    outputs[int(one[0])] = 1\n",
    "    expected.append(outputs)\n",
    "    data.append(one[1:])\n",
    "\n",
    "data_test = []\n",
    "expected_test = []\n",
    "for record in test_list[:]:\n",
    "    one = np.array(record.split(','))\n",
    "    outputs = np.zeros(10)\n",
    "    outputs[int(one[0])] = 1\n",
    "    expected_test.append(outputs)\n",
    "    data_test.append(one[1:])\n"
   ]
  },
  {
   "cell_type": "code",
   "execution_count": 7,
   "id": "59d94bf9-ae36-4960-b3be-c971193da070",
   "metadata": {},
   "outputs": [],
   "source": [
    "# Convert to np.array and reshape to make it feedable to net.\n",
    "x_train = np.array(data).reshape(-1, 1, 28*28).astype('float32')\n",
    "y_train = np.array(expected)\n",
    "x_test  = np.array(data_test).reshape(-1, 1, 28*28).astype('float32')\n",
    "y_test  = np.array(expected_test)"
   ]
  },
  {
   "cell_type": "code",
   "execution_count": 8,
   "id": "93768c3c-8b05-4ddf-9560-8dc22f0ee302",
   "metadata": {},
   "outputs": [
    {
     "data": {
      "text/plain": [
       "((60000, 1, 784), (60000, 10))"
      ]
     },
     "execution_count": 8,
     "metadata": {},
     "output_type": "execute_result"
    }
   ],
   "source": [
    "x_train.shape, y_train.shape"
   ]
  },
  {
   "cell_type": "code",
   "execution_count": 9,
   "id": "d5e856ad-12bb-4f89-af4c-975baa7831c7",
   "metadata": {},
   "outputs": [
    {
     "name": "stdout",
     "output_type": "stream",
     "text": [
      "[0. 0. 0. 0. 0. 1. 0. 0. 0. 0.]\n",
      "label 5\n"
     ]
    },
    {
     "data": {
      "image/png": "[encoded data removed]",
      "text/plain": [
       "<Figure size 640x480 with 1 Axes>"
      ]
     },
     "metadata": {},
     "output_type": "display_data"
    }
   ],
   "source": [
    "# Try to plot the image\n",
    "def plot_image(image):\n",
    "    grid = np.asarray(image).reshape((28, 28))\n",
    "    plt.imshow(grid, cmap=\"Greys\", interpolation=\"None\")\n",
    "\n",
    "print(y_train[0])\n",
    "print(\"label\", y_train.argmax())\n",
    "plot_image(x_train[0])"
   ]
  },
  {
   "cell_type": "code",
   "execution_count": 10,
   "id": "0bd51e83-b941-46a6-aac9-85b8d80d0b2d",
   "metadata": {},
   "outputs": [
    {
     "name": "stdout",
     "output_type": "stream",
     "text": [
      "epochs 1/5 error=0.093481 time=20.707246s\n",
      "epochs 2/5 error=0.029142 time=22.728903s\n",
      "epochs 3/5 error=0.022763 time=20.941150s\n",
      "epochs 4/5 error=0.020065 time=19.332913s\n",
      "epochs 5/5 error=0.018320 time=17.502973s\n",
      "done training.\n"
     ]
    }
   ],
   "source": [
    "# Define the network\n",
    "net = Network()\n",
    "net.add(FCLayer(28*28, 100))\n",
    "net.add(ActivationLayer(tanh, tanh_prime))\n",
    "net.add(FCLayer(100, 50))\n",
    "net.add(ActivationLayer(tanh, tanh_prime))\n",
    "net.add(FCLayer(50, 10))\n",
    "net.add(ActivationLayer(tanh, tanh_prime))\n",
    "net.use(mse, mse_prime)\n",
    "# Train it!\n",
    "net.train(x_train / 255.0 * .99, y_train, epochs=5, learning_rate=0.3)"
   ]
  },
  {
   "cell_type": "code",
   "execution_count": 11,
   "id": "00a7a0bf-5bbc-47d7-8a6e-214eca4751ef",
   "metadata": {},
   "outputs": [
    {
     "name": "stdout",
     "output_type": "stream",
     "text": [
      "epochs 1/5 error=0.017191 time=17.513238s\n",
      "epochs 2/5 error=0.016444 time=17.616057s\n",
      "epochs 3/5 error=0.015183 time=17.792964s\n",
      "epochs 4/5 error=0.015092 time=18.013322s\n",
      "epochs 5/5 error=0.014326 time=17.542600s\n",
      "done training.\n"
     ]
    }
   ],
   "source": [
    "# Retrain...\n",
    "net.train(x_train / 255.0 * .99, y_train, epochs=5, learning_rate=0.3)"
   ]
  },
  {
   "cell_type": "code",
   "execution_count": 12,
   "id": "b5b579d3-ee2d-48a6-9bb4-d1ab776f0ae9",
   "metadata": {},
   "outputs": [
    {
     "name": "stdout",
     "output_type": "stream",
     "text": [
      "accuracy: 0.9364\n"
     ]
    }
   ],
   "source": [
    "# Test the network on the unseen\n",
    "out = net.predict(x_test)\n",
    "out = np.array(out)\n",
    "total = x_test.shape[0]\n",
    "correct = 0\n",
    "for i in range(out.shape[0]):\n",
    "    # argmax get index of max value in array, the index represent the actual and expected number\n",
    "    actual = out[i].argmax()\n",
    "    expected = y_test[i].argmax()\n",
    "    # print(i, \"actual:\", actual, \" | expected:\", expected)\n",
    "    if actual == expected:\n",
    "        correct += 1\n",
    "\n",
    "print('accuracy:', correct / total)"
   ]
  },
  {
   "cell_type": "code",
   "execution_count": 13,
   "id": "264c5279-e5be-4083-9a4c-b407e585c04b",
   "metadata": {},
   "outputs": [
    {
     "name": "stdout",
     "output_type": "stream",
     "text": [
      "actual: 9 expected: 9\n",
      "[[ 3.92797137e-02  5.65135769e-03  1.20461473e-02  2.83622999e-02\n",
      "  -1.79536146e-02 -9.84831330e-03 -3.81840538e-04  3.95843705e-03\n",
      "   7.28334500e-03  9.03130240e-01]]\n"
     ]
    },
    {
     "data": {
      "image/png": "[encoded data removed]",
      "text/plain": [
       "<Figure size 640x480 with 1 Axes>"
      ]
     },
     "metadata": {},
     "output_type": "display_data"
    }
   ],
   "source": [
    "# Predict one of the \"hardest\" number to read by me\n",
    "index = 193\n",
    "plot_image(x_test[index])\n",
    "[out_one] = net.predict(x_test[index:index+1])\n",
    "print(\"actual:\", out_one.argmax(), \"expected:\", y_test[index].argmax())\n",
    "print(out_one)"
   ]
  }
 ],
 "metadata": {
  "kernelspec": {
   "display_name": "Python 3 (ipykernel)",
   "language": "python",
   "name": "python3"
  },
  "language_info": {
   "codemirror_mode": {
    "name": "ipython",
    "version": 3
   },
   "file_extension": ".py",
   "mimetype": "text/x-python",
   "name": "python",
   "nbconvert_exporter": "python",
   "pygments_lexer": "ipython3",
   "version": "3.13.0"
  }
 },
 "nbformat": 4,
 "nbformat_minor": 5
}
